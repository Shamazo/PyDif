{
 "cells": [
  {
   "cell_type": "code",
   "execution_count": 1,
   "metadata": {},
   "outputs": [
    {
     "name": "stdout",
     "output_type": "stream",
     "text": [
      "0.04769559781452298\n",
      "0.04769559781452298\n",
      "27\n",
      "27\n",
      "0.16666666666666666\n",
      "0.16666666666666666\n",
      "-0.3055555555555555\n",
      "-0.3055555555555556\n"
     ]
    }
   ],
   "source": [
    "import importlib\n",
    "import pydif\n",
    "import elementaryDEPRECATED as ele\n",
    "importlib.reload(pydif)\n",
    "importlib.reload(ele)\n",
    "\n",
    "import numpy as np\n",
    "import matplotlib.pyplot as plt\n",
    "\n",
    "alpha = 2\n",
    "pos = 2\n",
    "def f1(x):\n",
    "    return alpha*x+3\n",
    "def f2(x):\n",
    "    return x*alpha+3\n",
    "def f3(x):\n",
    "    return 3+x*alpha\n",
    "def f4(x):\n",
    "    return 3+alpha*x\n",
    "\n",
    "def f5(x):\n",
    "    return alpha/x+3\n",
    "def f6(x):\n",
    "    return 3+alpha/x\n",
    "def f7(x):\n",
    "    return x/alpha+3\n",
    "def f8(x):\n",
    "    return 3+x/alpha\n",
    "\n",
    "def f9(x,y,z):\n",
    "    return (1/(x*y*z)) + ele.sin((1/x) + (1/y) + (1/z))\n",
    "\n",
    "def f10(z,x,y):\n",
    "    return (1/(x*y*z)) + ele.sin((1/x) + (1/y) + (1/z))\n",
    "\n",
    "def f11(x):\n",
    "    return x**x\n",
    "\n",
    "def f12(x,y,z):\n",
    "    return (1/(x*y*z))\n",
    "\n",
    "    \n",
    "\n",
    "test1 = pydif.autodiff(f1)\n",
    "test2 = pydif.autodiff(f2)\n",
    "test3 = pydif.autodiff(f3)\n",
    "test4 = pydif.autodiff(f4)\n",
    "\n",
    "test5 = pydif.autodiff(f5)\n",
    "test6 = pydif.autodiff(f6)\n",
    "test7 = pydif.autodiff(f7)\n",
    "test8 = pydif.autodiff(f8)\n",
    "\n",
    "test9 = pydif.autodiff(f9)\n",
    "test10 = pydif.autodiff(f10)\n",
    "\n",
    "test11 = pydif.autodiff(f11)\n",
    "test12 = pydif.autodiff(f12)\n",
    "\n",
    "assert(test1.get_val(pos) == 7)\n",
    "assert(test2.get_val(pos) == 7)\n",
    "assert(test3.get_val(pos) == 7)\n",
    "assert(test4.get_val(pos) == 7)\n",
    "assert(test5.get_val(pos) == 4)\n",
    "assert(test6.get_val(pos) == 4)\n",
    "assert(test7.get_val(pos) == 4)\n",
    "assert(test8.get_val(pos) == 4)\n",
    "\n",
    "assert(test1.get_der(pos) == 2)\n",
    "assert(test2.get_der(pos) == 2)\n",
    "assert(test3.get_der(pos) == 2)\n",
    "assert(test4.get_der(pos) == 2)\n",
    "assert(test5.get_der(pos) == -0.5)\n",
    "assert(test6.get_der(pos) == -0.5)\n",
    "assert(test7.get_der(pos) == 0.5)\n",
    "assert(test8.get_der(pos) == 0.5)\n",
    "\n",
    "pos = (1,2,3)\n",
    "pos2 = (3,1,2)\n",
    "\n",
    "res = (1/6) + np.sin(11/6)\n",
    "assert(test9.get_val(pos) == res)\n",
    "assert(test10.get_val(pos) == res)\n",
    "\n",
    "#res = (((- (1/(1**2)) - (1/(2**2)) - (1/(3**2)))*(np.cos((1/1) + (1/2) + (1/3))))/(1*2*3)) - (((1) * (np.sin((1/1) + (1/2) + (1/3))))/((1**2)*2*3)) - (((1) * (np.sin((1/1) + (1/2) + (1/3))))/(1*(2**2)*3)) - (((1) * (np.sin((1/1) + (1/2) + (1/3))))/(1*2*(3**2)))\n",
    "#print(res)\n",
    "#http://www.wolframalpha.com/input/?i=d%2Fda+(1%2F(x(a)*y(a)*z(a))*(sin((1%2Fx(a))+%2B+(1%2Fy(a))+%2B+(1%2Fz(a))))\n",
    "\n",
    "print(test9.get_der(pos))\n",
    "print(test10.get_der(pos))\n",
    "\n",
    "\n",
    "der1 = -(1/6) - np.cos(11/6) #d/dx\n",
    "der2 = -(1/12) - (np.cos(11/6)/4) #d/dy\n",
    "der3 = -(1/18) - (np.cos(11/6)/9) #d/dz\n",
    "\n",
    "assert(np.allclose(test9.get_der(pos,jacobian=True),[der1,der2,der3]))\n",
    "assert(np.allclose(test10.get_der(pos2,jacobian=True),[der3,der1,der2]))\n",
    "\n",
    "print(test11.get_val(3))\n",
    "print(3**3)\n",
    "\n",
    "print(test12.get_val(pos))\n",
    "print(1/(1*2*3))\n",
    "print(test12.get_der(pos))\n",
    "#http://www.wolframalpha.com/input/?i=d%2Fda+(1%2F(x(a)*y(a)*z(a))\n",
    "print(-((2*3 + 1*3 + 1*2)/((1**2) * (2**2) * (3**2))))"
   ]
  },
  {
   "cell_type": "code",
   "execution_count": 2,
   "metadata": {},
   "outputs": [
    {
     "data": {
      "text/plain": [
       "True"
      ]
     },
     "execution_count": 2,
     "metadata": {},
     "output_type": "execute_result"
    }
   ],
   "source": [
    "any([True, False])"
   ]
  },
  {
   "cell_type": "markdown",
   "metadata": {},
   "source": [
    "# newton's test"
   ]
  },
  {
   "cell_type": "code",
   "execution_count": 3,
   "metadata": {},
   "outputs": [
    {
     "name": "stdout",
     "output_type": "stream",
     "text": [
      "At iteration 1, Delta x = 0.1218876773122230\n",
      "At iteration 2, Delta x = 0.0233959919379915\n",
      "At iteration 3, Delta x = 0.0020665479886371\n",
      "At iteration 4, Delta x = 0.0000150007973688\n",
      "Found root at x = 0.2473652188201050 after 5 iteratons.\n"
     ]
    }
   ],
   "source": [
    "#from lecture 9 slides\n",
    "def f(x):\n",
    "    return x - ele.exp(-2.0 * ele.sin(4.0*x) * ele.sin(4.0*x))\n",
    "\n",
    "# def f(x):\n",
    "#     # Hard-coded f(x)\n",
    "#     return x - np.exp(-2.0 * np.sin(4.0*x) * np.sin(4.0*x))\n",
    "\n",
    "dfdx = pydif.autodiff(f)\n",
    "\n",
    "# def dfdx(x):\n",
    "#     # Hard-coded Jacobian of f(x)\n",
    "#     return 1.0 + 16.0 * np.exp(-2.0 * np.sin(4.0*x) * np.sin(4.0*x)) * np.sin(4.0*x) * np.cos(4.0*x)\n",
    "\n",
    "# Start Newton algorithm\n",
    "xk = 0.1 # Initial guess\n",
    "tol = 1.0e-08 # Some tolerance\n",
    "max_it = 100 # Just stop if a root isn't found after 100 iterations\n",
    "\n",
    "root = None # Initialize root\n",
    "for k in range(max_it):\n",
    "    #delta_xk = -f(xk) / dfdx(xk) # Update Delta x_{k}\n",
    "    delta_xk = -f(xk) / dfdx.get_der(xk)\n",
    "    if (abs(delta_xk) <= tol): # Stop iteration if solution found\n",
    "        root = xk + delta_xk\n",
    "        print(\"Found root at x = {0:17.16f} after {1} iteratons.\".format(root, k+1))\n",
    "        break\n",
    "    print(\"At iteration {0}, Delta x = {1:17.16f}\".format(k+1, delta_xk))\n",
    "    xk += delta_xk # Update xk"
   ]
  },
  {
   "cell_type": "code",
   "execution_count": 4,
   "metadata": {},
   "outputs": [
    {
     "name": "stdout",
     "output_type": "stream",
     "text": [
      "At iteration 1, Delta x = 0.1218876773122230\n",
      "At iteration 2, Delta x = 0.0233959919379915\n",
      "At iteration 3, Delta x = 0.0020665479886371\n",
      "At iteration 4, Delta x = 0.0000150007973688\n",
      "Found root at x = 0.2473652188201050 after 5 iteratons.\n"
     ]
    }
   ],
   "source": [
    "def f(x):\n",
    "    # Hard-coded f(x)\n",
    "    return x - np.exp(-2.0 * np.sin(4.0*x) * np.sin(4.0*x))\n",
    "\n",
    "def dfdx(x):\n",
    "    # Hard-coded Jacobian of f(x)\n",
    "    return 1.0 + 16.0 * np.exp(-2.0 * np.sin(4.0*x) * np.sin(4.0*x)) * np.sin(4.0*x) * np.cos(4.0*x)\n",
    "\n",
    "# Start Newton algorithm\n",
    "xk = 0.1 # Initial guess\n",
    "tol = 1.0e-08 # Some tolerance\n",
    "max_it = 100 # Just stop if a root isn't found after 100 iterations\n",
    "\n",
    "root = None # Initialize root\n",
    "for k in range(max_it):\n",
    "    delta_xk = -f(xk) / dfdx(xk) # Update Delta x_{k}\n",
    "    if (abs(delta_xk) <= tol): # Stop iteration if solution found\n",
    "        root = xk + delta_xk\n",
    "        print(\"Found root at x = {0:17.16f} after {1} iteratons.\".format(root, k+1))\n",
    "        break\n",
    "    print(\"At iteration {0}, Delta x = {1:17.16f}\".format(k+1, delta_xk))\n",
    "    xk += delta_xk # Update xk"
   ]
  },
  {
   "cell_type": "code",
   "execution_count": 5,
   "metadata": {},
   "outputs": [
    {
     "data": {
      "text/plain": [
       "-2.207721228053572e-09"
      ]
     },
     "execution_count": 5,
     "metadata": {},
     "output_type": "execute_result"
    }
   ],
   "source": [
    "f(xk)"
   ]
  },
  {
   "cell_type": "code",
   "execution_count": null,
   "metadata": {},
   "outputs": [],
   "source": []
  }
 ],
 "metadata": {
  "kernelspec": {
   "display_name": "Python 3",
   "language": "python",
   "name": "python3"
  },
  "language_info": {
   "codemirror_mode": {
    "name": "ipython",
    "version": 3
   },
   "file_extension": ".py",
   "mimetype": "text/x-python",
   "name": "python",
   "nbconvert_exporter": "python",
   "pygments_lexer": "ipython3",
   "version": "3.6.5"
  }
 },
 "nbformat": 4,
 "nbformat_minor": 2
}
